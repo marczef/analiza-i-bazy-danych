{
 "cells": [
  {
   "attachments": {},
   "cell_type": "markdown",
   "metadata": {},
   "source": [
    "Marcjanna Bąkowska 409461\n",
    "\n",
    "##Ćwiczenia:\n",
    "\n",
    "    1. Ile rekordów znajduje się w tabeli nyc_streets?\n",
    "    2. Ile ulic w Nowym Jorku ma nazwy zaczynające się na „B”, „Q” i „M”?\n",
    "    3. Jaka jest populacja miasta Nowy Jork?\n",
    "    4. Jaka jest populacja Bronxu, Manhattanu i Queens?\n",
    "    5. Ile dzielnic (\"neighborhoods\") znajduje się w każdej gminie (borough)?\n",
    "\n",
    "\n",
    "1. 19091\n",
    "2. B - 859, Q-32, M - 494, razem 1385\n",
    "3. 8175032\n",
    "4. Bronx - 1385108, Manhattan - 1585873, Queens - 2230621\n",
    "5. Queens - 30, Brooklyn - 23, Staten Island - 24, Bronx - 24, Manhattan -28"
   ]
  }
 ],
 "metadata": {
  "kernelspec": {
   "display_name": "Python 3",
   "language": "python",
   "name": "python3"
  },
  "language_info": {
   "name": "python",
   "version": "3.9.13 (tags/v3.9.13:6de2ca5, May 17 2022, 16:36:42) [MSC v.1929 64 bit (AMD64)]"
  },
  "orig_nbformat": 4,
  "vscode": {
   "interpreter": {
    "hash": "cf92aa13fedf815d5c8dd192b8d835913fde3e8bc926b2a0ad6cc74ef2ba3ca2"
   }
  }
 },
 "nbformat": 4,
 "nbformat_minor": 2
}
